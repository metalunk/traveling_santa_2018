{
 "cells": [
  {
   "cell_type": "code",
   "execution_count": 1,
   "metadata": {},
   "outputs": [
    {
     "name": "stdout",
     "output_type": "stream",
     "text": [
      "Loading cities from CSV.\n",
      "Loading prime numbers.\n",
      "Loading pkl at data/prime_numbers.pkl.\n",
      "Generating City objects.\n",
      "Loading pkl at data/area_map.pkl.\n",
      "Creating city_to_idx.\n"
     ]
    }
   ],
   "source": [
    "from models.route import Route\n",
    "\n",
    "route = Route.initialize()"
   ]
  },
  {
   "cell_type": "code",
   "execution_count": 8,
   "metadata": {},
   "outputs": [
    {
     "name": "stdout",
     "output_type": "stream",
     "text": [
      "Creating city_to_idx.\n"
     ]
    }
   ],
   "source": [
    "import pandas as pd\n",
    "\n",
    "df = pd.read_csv('data/concorde_5h.csv')\n",
    "submission = df['Path'].tolist()\n",
    "\n",
    "route.load_submission(submission)"
   ]
  },
  {
   "cell_type": "code",
   "execution_count": 9,
   "metadata": {},
   "outputs": [
    {
     "data": {
      "text/plain": [
       "1516912.375114561"
      ]
     },
     "execution_count": 9,
     "metadata": {},
     "output_type": "execute_result"
    }
   ],
   "source": [
    "route.cost()"
   ]
  },
  {
   "cell_type": "code",
   "execution_count": 10,
   "metadata": {},
   "outputs": [
    {
     "name": "stdout",
     "output_type": "stream",
     "text": [
      "Swapping idx: 1629, improving -19.421298909932375\n",
      "Swapping idx: 17089, improving -0.2307644459418583\n",
      "Swapping idx: 22589, improving -0.8862190530417138\n",
      "Swapping idx: 24179, improving -3.217498954356415\n",
      "Swapping idx: 34909, improving -2.4170130216334655\n",
      "Swapping idx: 74409, improving -8.064546230183623\n",
      "Swapping idx: 90939, improving -5.5318705159879755\n",
      "Swapping idx: 107029, improving -2.8133283944262075\n",
      "Swapping idx: 110029, improving -7.043008773471229\n",
      "Swapping idx: 110209, improving -1.069068181926923\n",
      "Swapping idx: 154349, improving -0.07352994434280902\n",
      "Swapping idx: 166979, improving -0.43396258143355837\n",
      "Swapping idx: 171099, improving -5.865568800247274\n"
     ]
    }
   ],
   "source": [
    "route.improve_9th()"
   ]
  },
  {
   "cell_type": "code",
   "execution_count": 11,
   "metadata": {},
   "outputs": [
    {
     "data": {
      "text/plain": [
       "1516855.3074367736"
      ]
     },
     "execution_count": 11,
     "metadata": {},
     "output_type": "execute_result"
    }
   ],
   "source": [
    "route.cost()"
   ]
  },
  {
   "cell_type": "code",
   "execution_count": 12,
   "metadata": {},
   "outputs": [
    {
     "name": "stdout",
     "output_type": "stream",
     "text": [
      "Creating city_to_idx.\n"
     ]
    }
   ],
   "source": [
    "df = pd.read_csv('data/1515656.csv')\n",
    "submission = df['Path'].tolist()\n",
    "\n",
    "route.load_submission(submission)"
   ]
  },
  {
   "cell_type": "code",
   "execution_count": 13,
   "metadata": {},
   "outputs": [
    {
     "data": {
      "text/plain": [
       "1515656.6225609821"
      ]
     },
     "execution_count": 13,
     "metadata": {},
     "output_type": "execute_result"
    }
   ],
   "source": [
    "route.cost()"
   ]
  },
  {
   "cell_type": "code",
   "execution_count": 14,
   "metadata": {},
   "outputs": [],
   "source": [
    "route.improve_9th()"
   ]
  },
  {
   "cell_type": "code",
   "execution_count": null,
   "metadata": {},
   "outputs": [],
   "source": []
  }
 ],
 "metadata": {
  "kernelspec": {
   "display_name": "Python 3",
   "language": "python",
   "name": "python3"
  },
  "language_info": {
   "codemirror_mode": {
    "name": "ipython",
    "version": 3
   },
   "file_extension": ".py",
   "mimetype": "text/x-python",
   "name": "python",
   "nbconvert_exporter": "python",
   "pygments_lexer": "ipython3",
   "version": "3.6.7"
  }
 },
 "nbformat": 4,
 "nbformat_minor": 2
}
